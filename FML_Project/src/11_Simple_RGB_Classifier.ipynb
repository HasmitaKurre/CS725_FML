{
 "cells": [
  {
   "cell_type": "code",
   "execution_count": 33,
   "metadata": {},
   "outputs": [],
   "source": [
    "import tensorflow as tf\n",
    "import numpy as np\n",
    "from sklearn.metrics import accuracy_score, classification_report, confusion_matrix"
   ]
  },
  {
   "cell_type": "code",
   "execution_count": 34,
   "metadata": {},
   "outputs": [],
   "source": [
    "# Function to classify a single pixel based on RGB thresholds\n",
    "def classify_pixel(r, g, b):\n",
    "    if b > r and b > g:  # Predominantly blue\n",
    "        if b > 200:  # Light blue\n",
    "            return \"Moderate_moisture\"\n",
    "        else:  # Dark blue\n",
    "            return \"Highest_moisture\"\n",
    "    elif g > r and g > b:  # Predominantly green\n",
    "        return \"Moderate_moisture\"\n",
    "    elif r > g and r > b:  # Predominantly red\n",
    "        return \"Dry\"\n",
    "    elif r > b and g > b:  # Mix of red and green (orange/yellow)\n",
    "        if r > 200 and g > 200:  # Yellow\n",
    "            return \"Moderate_moisture\"\n",
    "        else:  # Orangish red\n",
    "            return \"Dry\"\n",
    "    else:  # Default\n",
    "        return \"Moderate_moisture\""
   ]
  },
  {
   "cell_type": "code",
   "execution_count": 35,
   "metadata": {},
   "outputs": [],
   "source": [
    "# Function to classify an image based on majority pixel class\n",
    "def classify_image(image):\n",
    "    classes = {\"Highest_moisture\": 0, \"Moderate_moisture\": 0, \"Dry\": 0}\n",
    "    for row in image:\n",
    "        for pixel in row:\n",
    "            r, g, b = pixel\n",
    "            class_label = classify_pixel(r, g, b)\n",
    "            classes[class_label] += 1\n",
    "    # Return the majority class\n",
    "    return max(classes, key=classes.get)"
   ]
  },
  {
   "cell_type": "code",
   "execution_count": null,
   "metadata": {},
   "outputs": [
    {
     "name": "stdout",
     "output_type": "stream",
     "text": [
      "Found 15002 files belonging to 3 classes.\n"
     ]
    }
   ],
   "source": [
    "data = tf.keras.preprocessing.image_dataset_from_directory(\n",
    "    f\"../data/Soil_classification_dataset_preprocessed\",\n",
    "    image_size=(96, 96),\n",
    "    color_mode='rgb',\n",
    "    batch_size=1,\n",
    ")\n",
    "classes = dict(enumerate(data.class_names))\n",
    "reverse_classes = {v: k for k, v in classes.items()}\n",
    "images = data.as_numpy_iterator()"
   ]
  },
  {
   "cell_type": "code",
   "execution_count": 37,
   "metadata": {},
   "outputs": [],
   "source": [
    "# Classify images using the RGB classifier\n",
    "labels = []\n",
    "predictions = []\n",
    "for image in images:\n",
    "    X, y_true = image\n",
    "    labels.extend(y_true)\n",
    "    predictions.append(classify_image(X[0]))\n",
    "predictions = list(map(lambda x: reverse_classes[x], predictions))\n"
   ]
  },
  {
   "cell_type": "code",
   "execution_count": 38,
   "metadata": {},
   "outputs": [],
   "source": [
    "mispredictions = 0\n",
    "instances = len(labels)\n",
    "if instances == len(predictions):\n",
    "    for i in range(instances):\n",
    "        mispredictions += int(labels[i] != predictions[i])"
   ]
  },
  {
   "cell_type": "code",
   "execution_count": 39,
   "metadata": {},
   "outputs": [
    {
     "data": {
      "text/plain": [
       "0.03972803626183176"
      ]
     },
     "execution_count": 39,
     "metadata": {},
     "output_type": "execute_result"
    }
   ],
   "source": [
    "mispredictions/instances"
   ]
  },
  {
   "cell_type": "code",
   "execution_count": 40,
   "metadata": {},
   "outputs": [
    {
     "name": "stdout",
     "output_type": "stream",
     "text": [
      "Accuracy: 0.9602719637381683\n",
      "Classification Report:\n",
      "               precision    recall  f1-score   support\n",
      "\n",
      "           0       0.96      1.00      0.98      5001\n",
      "           1       0.92      1.00      0.96      5000\n",
      "           2       1.00      0.88      0.94      5001\n",
      "\n",
      "    accuracy                           0.96     15002\n",
      "   macro avg       0.96      0.96      0.96     15002\n",
      "weighted avg       0.96      0.96      0.96     15002\n",
      "\n",
      "Confusion Matrix:\n",
      " [[5001    0    0]\n",
      " [  13 4987    0]\n",
      " [ 170  413 4418]]\n"
     ]
    }
   ],
   "source": [
    "# Evaluate the model\n",
    "accuracy = accuracy_score(labels, predictions)\n",
    "report = classification_report(labels, predictions, zero_division=0)\n",
    "conf_matrix = confusion_matrix(labels, predictions)\n",
    "\n",
    "print(\"Accuracy:\", accuracy)\n",
    "print(\"Classification Report:\\n\", report)\n",
    "print(\"Confusion Matrix:\\n\", conf_matrix)"
   ]
  }
 ],
 "metadata": {
  "kernelspec": {
   "display_name": "Python 3",
   "language": "python",
   "name": "python3"
  },
  "language_info": {
   "codemirror_mode": {
    "name": "ipython",
    "version": 3
   },
   "file_extension": ".py",
   "mimetype": "text/x-python",
   "name": "python",
   "nbconvert_exporter": "python",
   "pygments_lexer": "ipython3",
   "version": "3.10.11"
  }
 },
 "nbformat": 4,
 "nbformat_minor": 2
}
