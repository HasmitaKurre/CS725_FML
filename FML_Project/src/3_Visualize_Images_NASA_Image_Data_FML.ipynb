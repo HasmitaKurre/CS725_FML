{
  "nbformat": 4,
  "nbformat_minor": 0,
  "metadata": {
    "colab": {
      "provenance": [],
      "gpuType": "T4"
    },
    "kernelspec": {
      "name": "python3",
      "display_name": "Python 3"
    },
    "language_info": {
      "name": "python"
    },
    "accelerator": "GPU"
  },
  "cells": [
    {
      "cell_type": "code",
      "execution_count": null,
      "metadata": {
        "colab": {
          "base_uri": "https://localhost:8080/"
        },
        "id": "IGp3wBtzInJA",
        "outputId": "2d589b05-8b6e-44eb-9b7e-934e5478177e"
      },
      "outputs": [
        {
          "output_type": "stream",
          "name": "stdout",
          "text": [
            "Collecting rasterio\n",
            "  Downloading rasterio-1.4.2-cp310-cp310-manylinux_2_17_x86_64.manylinux2014_x86_64.whl.metadata (9.1 kB)\n",
            "Collecting affine (from rasterio)\n",
            "  Downloading affine-2.4.0-py3-none-any.whl.metadata (4.0 kB)\n",
            "Requirement already satisfied: attrs in /usr/local/lib/python3.10/dist-packages (from rasterio) (24.2.0)\n",
            "Requirement already satisfied: certifi in /usr/local/lib/python3.10/dist-packages (from rasterio) (2024.8.30)\n",
            "Requirement already satisfied: click>=4.0 in /usr/local/lib/python3.10/dist-packages (from rasterio) (8.1.7)\n",
            "Collecting cligj>=0.5 (from rasterio)\n",
            "  Downloading cligj-0.7.2-py3-none-any.whl.metadata (5.0 kB)\n",
            "Requirement already satisfied: numpy>=1.24 in /usr/local/lib/python3.10/dist-packages (from rasterio) (1.26.4)\n",
            "Collecting click-plugins (from rasterio)\n",
            "  Downloading click_plugins-1.1.1-py2.py3-none-any.whl.metadata (6.4 kB)\n",
            "Requirement already satisfied: pyparsing in /usr/local/lib/python3.10/dist-packages (from rasterio) (3.2.0)\n",
            "Downloading rasterio-1.4.2-cp310-cp310-manylinux_2_17_x86_64.manylinux2014_x86_64.whl (22.2 MB)\n",
            "\u001b[2K   \u001b[90m━━━━━━━━━━━━━━━━━━━━━━━━━━━━━━━━━━━━━━━━\u001b[0m \u001b[32m22.2/22.2 MB\u001b[0m \u001b[31m36.2 MB/s\u001b[0m eta \u001b[36m0:00:00\u001b[0m\n",
            "\u001b[?25hDownloading cligj-0.7.2-py3-none-any.whl (7.1 kB)\n",
            "Downloading affine-2.4.0-py3-none-any.whl (15 kB)\n",
            "Downloading click_plugins-1.1.1-py2.py3-none-any.whl (7.5 kB)\n",
            "Installing collected packages: cligj, click-plugins, affine, rasterio\n",
            "Successfully installed affine-2.4.0 click-plugins-1.1.1 cligj-0.7.2 rasterio-1.4.2\n"
          ]
        }
      ],
      "source": [
        "pip install rasterio"
      ]
    },
    {
      "cell_type": "code",
      "source": [
        "from google.colab import files\n",
        "files.upload()  # This will prompt you to upload kaggle.json"
      ],
      "metadata": {
        "colab": {
          "base_uri": "https://localhost:8080/",
          "height": 92
        },
        "id": "GJIWz8elIugE",
        "outputId": "dd08fb2e-a95d-4c20-bd56-edc311b5e80c"
      },
      "execution_count": null,
      "outputs": [
        {
          "output_type": "display_data",
          "data": {
            "text/plain": [
              "<IPython.core.display.HTML object>"
            ],
            "text/html": [
              "\n",
              "     <input type=\"file\" id=\"files-214390a1-4a7f-4875-a5ed-ec5ceb089c4c\" name=\"files[]\" multiple disabled\n",
              "        style=\"border:none\" />\n",
              "     <output id=\"result-214390a1-4a7f-4875-a5ed-ec5ceb089c4c\">\n",
              "      Upload widget is only available when the cell has been executed in the\n",
              "      current browser session. Please rerun this cell to enable.\n",
              "      </output>\n",
              "      <script>// Copyright 2017 Google LLC\n",
              "//\n",
              "// Licensed under the Apache License, Version 2.0 (the \"License\");\n",
              "// you may not use this file except in compliance with the License.\n",
              "// You may obtain a copy of the License at\n",
              "//\n",
              "//      http://www.apache.org/licenses/LICENSE-2.0\n",
              "//\n",
              "// Unless required by applicable law or agreed to in writing, software\n",
              "// distributed under the License is distributed on an \"AS IS\" BASIS,\n",
              "// WITHOUT WARRANTIES OR CONDITIONS OF ANY KIND, either express or implied.\n",
              "// See the License for the specific language governing permissions and\n",
              "// limitations under the License.\n",
              "\n",
              "/**\n",
              " * @fileoverview Helpers for google.colab Python module.\n",
              " */\n",
              "(function(scope) {\n",
              "function span(text, styleAttributes = {}) {\n",
              "  const element = document.createElement('span');\n",
              "  element.textContent = text;\n",
              "  for (const key of Object.keys(styleAttributes)) {\n",
              "    element.style[key] = styleAttributes[key];\n",
              "  }\n",
              "  return element;\n",
              "}\n",
              "\n",
              "// Max number of bytes which will be uploaded at a time.\n",
              "const MAX_PAYLOAD_SIZE = 100 * 1024;\n",
              "\n",
              "function _uploadFiles(inputId, outputId) {\n",
              "  const steps = uploadFilesStep(inputId, outputId);\n",
              "  const outputElement = document.getElementById(outputId);\n",
              "  // Cache steps on the outputElement to make it available for the next call\n",
              "  // to uploadFilesContinue from Python.\n",
              "  outputElement.steps = steps;\n",
              "\n",
              "  return _uploadFilesContinue(outputId);\n",
              "}\n",
              "\n",
              "// This is roughly an async generator (not supported in the browser yet),\n",
              "// where there are multiple asynchronous steps and the Python side is going\n",
              "// to poll for completion of each step.\n",
              "// This uses a Promise to block the python side on completion of each step,\n",
              "// then passes the result of the previous step as the input to the next step.\n",
              "function _uploadFilesContinue(outputId) {\n",
              "  const outputElement = document.getElementById(outputId);\n",
              "  const steps = outputElement.steps;\n",
              "\n",
              "  const next = steps.next(outputElement.lastPromiseValue);\n",
              "  return Promise.resolve(next.value.promise).then((value) => {\n",
              "    // Cache the last promise value to make it available to the next\n",
              "    // step of the generator.\n",
              "    outputElement.lastPromiseValue = value;\n",
              "    return next.value.response;\n",
              "  });\n",
              "}\n",
              "\n",
              "/**\n",
              " * Generator function which is called between each async step of the upload\n",
              " * process.\n",
              " * @param {string} inputId Element ID of the input file picker element.\n",
              " * @param {string} outputId Element ID of the output display.\n",
              " * @return {!Iterable<!Object>} Iterable of next steps.\n",
              " */\n",
              "function* uploadFilesStep(inputId, outputId) {\n",
              "  const inputElement = document.getElementById(inputId);\n",
              "  inputElement.disabled = false;\n",
              "\n",
              "  const outputElement = document.getElementById(outputId);\n",
              "  outputElement.innerHTML = '';\n",
              "\n",
              "  const pickedPromise = new Promise((resolve) => {\n",
              "    inputElement.addEventListener('change', (e) => {\n",
              "      resolve(e.target.files);\n",
              "    });\n",
              "  });\n",
              "\n",
              "  const cancel = document.createElement('button');\n",
              "  inputElement.parentElement.appendChild(cancel);\n",
              "  cancel.textContent = 'Cancel upload';\n",
              "  const cancelPromise = new Promise((resolve) => {\n",
              "    cancel.onclick = () => {\n",
              "      resolve(null);\n",
              "    };\n",
              "  });\n",
              "\n",
              "  // Wait for the user to pick the files.\n",
              "  const files = yield {\n",
              "    promise: Promise.race([pickedPromise, cancelPromise]),\n",
              "    response: {\n",
              "      action: 'starting',\n",
              "    }\n",
              "  };\n",
              "\n",
              "  cancel.remove();\n",
              "\n",
              "  // Disable the input element since further picks are not allowed.\n",
              "  inputElement.disabled = true;\n",
              "\n",
              "  if (!files) {\n",
              "    return {\n",
              "      response: {\n",
              "        action: 'complete',\n",
              "      }\n",
              "    };\n",
              "  }\n",
              "\n",
              "  for (const file of files) {\n",
              "    const li = document.createElement('li');\n",
              "    li.append(span(file.name, {fontWeight: 'bold'}));\n",
              "    li.append(span(\n",
              "        `(${file.type || 'n/a'}) - ${file.size} bytes, ` +\n",
              "        `last modified: ${\n",
              "            file.lastModifiedDate ? file.lastModifiedDate.toLocaleDateString() :\n",
              "                                    'n/a'} - `));\n",
              "    const percent = span('0% done');\n",
              "    li.appendChild(percent);\n",
              "\n",
              "    outputElement.appendChild(li);\n",
              "\n",
              "    const fileDataPromise = new Promise((resolve) => {\n",
              "      const reader = new FileReader();\n",
              "      reader.onload = (e) => {\n",
              "        resolve(e.target.result);\n",
              "      };\n",
              "      reader.readAsArrayBuffer(file);\n",
              "    });\n",
              "    // Wait for the data to be ready.\n",
              "    let fileData = yield {\n",
              "      promise: fileDataPromise,\n",
              "      response: {\n",
              "        action: 'continue',\n",
              "      }\n",
              "    };\n",
              "\n",
              "    // Use a chunked sending to avoid message size limits. See b/62115660.\n",
              "    let position = 0;\n",
              "    do {\n",
              "      const length = Math.min(fileData.byteLength - position, MAX_PAYLOAD_SIZE);\n",
              "      const chunk = new Uint8Array(fileData, position, length);\n",
              "      position += length;\n",
              "\n",
              "      const base64 = btoa(String.fromCharCode.apply(null, chunk));\n",
              "      yield {\n",
              "        response: {\n",
              "          action: 'append',\n",
              "          file: file.name,\n",
              "          data: base64,\n",
              "        },\n",
              "      };\n",
              "\n",
              "      let percentDone = fileData.byteLength === 0 ?\n",
              "          100 :\n",
              "          Math.round((position / fileData.byteLength) * 100);\n",
              "      percent.textContent = `${percentDone}% done`;\n",
              "\n",
              "    } while (position < fileData.byteLength);\n",
              "  }\n",
              "\n",
              "  // All done.\n",
              "  yield {\n",
              "    response: {\n",
              "      action: 'complete',\n",
              "    }\n",
              "  };\n",
              "}\n",
              "\n",
              "scope.google = scope.google || {};\n",
              "scope.google.colab = scope.google.colab || {};\n",
              "scope.google.colab._files = {\n",
              "  _uploadFiles,\n",
              "  _uploadFilesContinue,\n",
              "};\n",
              "})(self);\n",
              "</script> "
            ]
          },
          "metadata": {}
        },
        {
          "output_type": "stream",
          "name": "stdout",
          "text": [
            "Saving kaggle.json to kaggle.json\n"
          ]
        },
        {
          "output_type": "execute_result",
          "data": {
            "text/plain": [
              "{'kaggle.json': b'{\"username\":\"hasmitakurre\",\"key\":\"3dd34c5e4a084019e12c4be02200e172\"}'}"
            ]
          },
          "metadata": {},
          "execution_count": 2
        }
      ]
    },
    {
      "cell_type": "code",
      "source": [
        "# Make a directory to store the Kaggle credentials\n",
        "!mkdir -p ~/.kaggle\n",
        "!cp kaggle.json ~/.kaggle/\n",
        "\n",
        "# Set permissions\n",
        "!chmod 600 ~/.kaggle/kaggle.json\n",
        "\n",
        "# Verify the Kaggle API is set up properly\n",
        "!kaggle datasets list"
      ],
      "metadata": {
        "colab": {
          "base_uri": "https://localhost:8080/"
        },
        "id": "DbPBNxY2Iwbc",
        "outputId": "5ebc5b26-e2e7-4244-8de1-afaaac0dc035"
      },
      "execution_count": null,
      "outputs": [
        {
          "output_type": "stream",
          "name": "stdout",
          "text": [
            "ref                                                              title                                           size  lastUpdated          downloadCount  voteCount  usabilityRating  \n",
            "---------------------------------------------------------------  ---------------------------------------------  -----  -------------------  -------------  ---------  ---------------  \n",
            "valakhorasani/mobile-device-usage-and-user-behavior-dataset      Mobile Device Usage and User Behavior Dataset   11KB  2024-09-28 20:21:12          19424        410  1.0              \n",
            "prajwaldongre/global-plastic-waste-2023-a-country-wise-analysis  Global Plastic Waste 2023: Country-wise Data     3KB  2024-10-31 11:34:47           1378         30  1.0              \n",
            "yusufdelikkaya/online-sales-dataset                              Online Sales Dataset                             1MB  2024-10-29 10:08:40           1593         29  0.88235295       \n",
            "mahdiehhajian/life-expectancy-around-the-world                   Life expectancy around the world👩‍🦳👴👨‍👨‍👧‍👧     12MB  2024-10-31 06:44:15           1315         24  0.9411765        \n",
            "valakhorasani/gym-members-exercise-dataset                       Gym Members Exercise Dataset                    22KB  2024-10-06 11:27:38          10952        171  1.0              \n",
            "taweilo/loan-approval-classification-data                        Loan Approval Classification Dataset           751KB  2024-10-29 04:07:34           1738         39  1.0              \n",
            "bhadramohit/smartphone-usage-and-behavioral-dataset              Smartphone Usage and Behavioral Dataset         17KB  2024-10-23 03:16:02           2138         45  1.0              \n",
            "alistairking/weather-long-term-time-series-forecasting           Weather Long-term Time Series Forecasting        2MB  2024-11-03 02:44:38            751         27  1.0              \n",
            "bhadramohit/world-bank-dataset                                   World Bank Dataset                               5KB  2024-10-20 14:57:06           1952         32  1.0              \n",
            "willianoliveiragibin/covid-19-on-working-professionals           COVID-19 on Working Professionals              255KB  2024-10-18 22:28:50           1438         32  1.0              \n",
            "yusufdelikkaya/imdb-movie-dataset                                IMDB Movie Dataset                             134KB  2024-10-30 16:52:53           1288         26  0.88235295       \n",
            "aadyasingh55/twitter-emotion-classification-dataset              Twitter Emotion Classification Dataset          22MB  2024-10-21 20:47:33           1104         31  1.0              \n",
            "prathamjyotsingh/netflix-vs-disney                               Netflix vs. Disney                             190KB  2024-10-18 15:54:35           1556         34  1.0              \n",
            "arpitsinghaiml/instagram-user-growth-by-country                  Instagram User Growth by Country (2024)          4KB  2024-10-31 10:59:29           1031         28  1.0              \n",
            "muhammadroshaanriaz/students-performance-dataset-cleaned         Students Performance | Clean Dataset            10KB  2024-10-29 19:32:26           1172         28  1.0              \n",
            "abdullah0a/comprehensive-weight-change-prediction                Diet Analysis , Predict The Weight               3KB  2024-10-27 17:43:55           1612         34  1.0              \n",
            "ismetsemedov/transactions                                        Transactions                                   754MB  2024-10-30 14:35:17            665         27  1.0              \n",
            "hasibur013/diabetes-dataset                                      Diabetes Dataset                                 9KB  2024-10-22 02:10:36           2447         48  1.0              \n",
            "stealthtechnologies/car-evaluation-classification                Car Classification Dataset                       5KB  2024-10-19 17:23:35           1185         31  1.0              \n",
            "octopusteam/full-netflix-dataset                                 Full Netflix Dataset                           744KB  2024-11-06 09:00:31           1894         34  1.0              \n"
          ]
        }
      ]
    },
    {
      "cell_type": "code",
      "source": [
        "# Download the Caltech-256 dataset\n",
        "!kaggle datasets download -d hasmitakurre/nasa-soil-moisture-india-dataset"
      ],
      "metadata": {
        "colab": {
          "base_uri": "https://localhost:8080/"
        },
        "id": "X7YsrL4jIyIM",
        "outputId": "8e4b20c9-53bc-4047-c4c4-0a538343b9a4"
      },
      "execution_count": null,
      "outputs": [
        {
          "output_type": "stream",
          "name": "stdout",
          "text": [
            "Dataset URL: https://www.kaggle.com/datasets/hasmitakurre/nasa-soil-moisture-india-dataset\n",
            "License(s): unknown\n",
            "Downloading nasa-soil-moisture-india-dataset.zip to /content\n",
            " 82% 57.0M/69.3M [00:00<00:00, 78.0MB/s]\n",
            "100% 69.3M/69.3M [00:00<00:00, 74.4MB/s]\n"
          ]
        }
      ]
    },
    {
      "cell_type": "code",
      "source": [
        "# Unzip the downloaded dataset\n",
        "!unzip nasa-soil-moisture-india-dataset.zip -d /content/nasa-soil-moisture-india-dataset"
      ],
      "metadata": {
        "colab": {
          "base_uri": "https://localhost:8080/"
        },
        "id": "fS79whfiIz6U",
        "outputId": "ccb1b11d-acb9-41d8-915f-b9504f8c4407"
      },
      "execution_count": null,
      "outputs": [
        {
          "output_type": "stream",
          "name": "stdout",
          "text": [
            "unzip:  cannot find or open nasa-soil-moisture-india-dataset.zip, nasa-soil-moisture-india-dataset.zip.zip or nasa-soil-moisture-india-dataset.zip.ZIP.\n"
          ]
        }
      ]
    },
    {
      "cell_type": "code",
      "source": [
        "import rasterio\n",
        "import numpy as np\n",
        "import matplotlib.pyplot as plt\n",
        "from matplotlib.colors import LinearSegmentedColormap\n",
        "import os\n",
        "\n",
        "# Define the custom color palette from visualization_params\n",
        "colors = ['#fc6238', '#ffec59', '#8dd7bf', '#00b0ba', '#0065a2']\n",
        "custom_cmap = LinearSegmentedColormap.from_list('custom_palette', colors)\n",
        "\n",
        "# Load the .tif heatmap file\n",
        "def load_tif_data(tif_file):\n",
        "    with rasterio.open(tif_file) as src:\n",
        "        data = src.read(1)  # Read the first band\n",
        "    return data\n",
        "\n",
        "# Specify the directory containing the .tif files\n",
        "tif_folder_path = '/content/nasa-soil-moisture-india-dataset/NASA_Soil_Moisture_India_Dataset'\n",
        "\n",
        "# List all .tif files in the specified folder\n",
        "tif_files = [f for f in os.listdir(tif_folder_path) if f.endswith('.tif')]\n",
        "\n",
        "# Loop through each .tif file and display the heatmap\n",
        "for tif_file in tif_files:\n",
        "    tif_file_path = os.path.join(tif_folder_path, tif_file)\n",
        "\n",
        "    # Load heatmap data\n",
        "    heatmap_data = load_tif_data(tif_file_path)\n",
        "\n",
        "    # Show the heatmap with the custom colormap\n",
        "    plt.figure(figsize=(10, 6))\n",
        "    plt.imshow(heatmap_data, cmap=custom_cmap, vmin=0.0, vmax=0.5)  # Set vmin and vmax as in visualization_params\n",
        "    plt.colorbar()\n",
        "    plt.title(f\"Soil Moisture Heatmap - {tif_file}\")\n",
        "    plt.axis('off')  # Optional: turn off axis labels\n",
        "    plt.show()"
      ],
      "metadata": {
        "id": "j_V-zka67Ig3"
      },
      "execution_count": null,
      "outputs": []
    },
    {
      "cell_type": "code",
      "source": [
        "import rasterio\n",
        "import numpy as np\n",
        "import matplotlib.pyplot as plt\n",
        "from matplotlib.colors import LinearSegmentedColormap\n",
        "\n",
        "# Define the custom color palette from visualization_params\n",
        "colors = ['#fc6238', '#ffec59', '#8dd7bf', '#00b0ba', '#0065a2']\n",
        "custom_cmap = LinearSegmentedColormap.from_list('custom_palette', colors)\n",
        "\n",
        "# Load the .tif heatmap file\n",
        "def load_tif_data(tif_file):\n",
        "    with rasterio.open(tif_file) as src:\n",
        "        data = src.read(1)  # Read the first band\n",
        "    return data\n",
        "\n",
        "# Example .tif file path\n",
        "tif_file_path =  '/content/nasa-soil-moisture-india-dataset/NASA_Soil_Moisture_India_Dataset/soil_moisture_india_and_sri_lanka_2015-04-02.tif'  #'path_to_your_heatmap.tif'\n",
        "heatmap_data = load_tif_data(tif_file_path)\n",
        "\n",
        "\n",
        "# Show the heatmap with the custom colormap\n",
        "plt.figure(figsize=(10, 6))\n",
        "plt.imshow(heatmap_data, cmap=custom_cmap, vmin=0.0, vmax=0.6)  # Set vmin and vmax as in visualization_params\n",
        "plt.colorbar()\n",
        "plt.title(f\"Soil Moisture Heatmap - {tif_file}\")\n",
        "plt.axis('off')  # Optional: turn off axis labels\n",
        "plt.show()"
      ],
      "metadata": {
        "colab": {
          "base_uri": "https://localhost:8080/",
          "height": 513
        },
        "id": "eYvXAVVsJMbP",
        "outputId": "70298b16-7511-4099-bd7c-286aa5a78a57"
      },
      "execution_count": null,
      "outputs": [
        {
          "output_type": "display_data",
          "data": {
            "text/plain": [
              "<Figure size 1000x600 with 2 Axes>"
            ],
            "image/png": "[encoded data removed]"
          },
          "metadata": {}
        }
      ]
    },
    {
      "cell_type": "code",
      "source": [
        "import rasterio\n",
        "import numpy as np\n",
        "import matplotlib.pyplot as plt\n",
        "from matplotlib.colors import ListedColormap, BoundaryNorm\n",
        "\n",
        "# Define the exact six colors from visualization_params\n",
        "#colors = ['#fc6238', '#ffec59', '#8dd7bf', '#00b0ba', '#0065a2', '#004b74']\n",
        "colors = ['#fc6238', '#ffec59', '#8dd7bf', '#00b0ba', '#0065a2']\n",
        "custom_cmap = ListedColormap(colors)\n",
        "\n",
        "# Define boundaries for each color (e.g., six intervals from 0 to 0.6)\n",
        "boundaries = [0.0, 0.1, 0.2, 0.3, 0.4, 0.5]\n",
        "norm = BoundaryNorm(boundaries, custom_cmap.N, clip=True)\n",
        "\n",
        "# Load the .tif heatmap file\n",
        "def load_tif_data(tif_file):\n",
        "    with rasterio.open(tif_file) as src:\n",
        "        data = src.read(1)  # Read the first band\n",
        "    return data\n",
        "\n",
        "# Example .tif file path\n",
        "tif_file_path = '/content/nasa-soil-moisture-india-dataset/NASA_Soil_Moisture_India_Dataset/soil_moisture_india_and_sri_lanka_2015-04-02.tif'\n",
        "heatmap_data = load_tif_data(tif_file_path)\n",
        "\n",
        "# Show the heatmap with the exact custom colormap\n",
        "plt.figure(figsize=(10, 6))\n",
        "plt.axis('off')  # Optional: turn off axis labels\n",
        "plt.imshow(heatmap_data, cmap=custom_cmap, norm=norm)  # Apply the custom colormap and norm\n",
        "plt.savefig(\"soil_moisture_heatmap.png\", format=\"png\", bbox_inches=\"tight\", dpi=300)\n",
        "plt.colorbar(boundaries=boundaries, ticks=boundaries)  # Display color bar with boundaries as tick marks\n",
        "plt.title(\"Soil Moisture Heatmap - India and Sri Lanka\")\n",
        "plt.show()"
      ],
      "metadata": {
        "colab": {
          "base_uri": "https://localhost:8080/",
          "height": 529
        },
        "id": "uzp14mUaNhkX",
        "outputId": "8eeb4a3f-eeb0-477c-f53d-2bd3098a28c4"
      },
      "execution_count": null,
      "outputs": [
        {
          "output_type": "display_data",
          "data": {
            "text/plain": [
              "<Figure size 1000x600 with 2 Axes>"
            ],
            "image/png": "[encoded data removed]"
          },
          "metadata": {}
        }
      ]
    },
    {
      "cell_type": "code",
      "source": [
        "import rasterio\n",
        "import numpy as np\n",
        "import matplotlib.pyplot as plt\n",
        "from matplotlib.colors import LinearSegmentedColormap\n",
        "import os\n",
        "\n",
        "# Define the custom color palette from visualization_params\n",
        "colors = ['#fc6238', '#ffec59', '#8dd7bf', '#00b0ba', '#0065a2']\n",
        "custom_cmap = LinearSegmentedColormap.from_list('custom_palette', colors)\n",
        "\n",
        "# Define boundaries for each color (e.g., six intervals from 0 to 0.6)\n",
        "boundaries = [0.0, 0.1, 0.2, 0.3, 0.4, 0.5]\n",
        "norm = BoundaryNorm(boundaries, custom_cmap.N, clip=True)\n",
        "\n",
        "\n",
        "# Create directories if they don't already exist\n",
        "os.makedirs(\"/content/Raw_Data_Images/\", exist_ok=True)\n",
        "\n",
        "# Load the .tif heatmap file\n",
        "def load_tif_data(tif_file):\n",
        "    with rasterio.open(tif_file) as src:\n",
        "        data = src.read(1)  # Read the first band\n",
        "    return data\n",
        "\n",
        "# Specify the directory containing the .tif files\n",
        "tif_folder_path = '/content/nasa-soil-moisture-india-dataset/NASA_Soil_Moisture_India_Dataset'\n",
        "\n",
        "# List all .tif files in the specified folder\n",
        "tif_files = [f for f in os.listdir(tif_folder_path) if f.endswith('.tif')]\n",
        "\n",
        "# Loop through each .tif file and display the heatmap\n",
        "for tif_file in tif_files:\n",
        "    tif_file_path = os.path.join(tif_folder_path, tif_file)\n",
        "\n",
        "    # Load heatmap data\n",
        "    heatmap_data = load_tif_data(tif_file_path)\n",
        "\n",
        "    # Save the heatmap with the exact custom colormap\n",
        "    plt.figure(figsize=(10, 6))\n",
        "    plt.axis('off')  # Optional: turn off axis labels\n",
        "    plt.imshow(heatmap_data, cmap=custom_cmap, norm=norm)  # Apply the custom colormap and norm\n",
        "    plt.savefig(f'/content/Raw_Data_Images/{tif_file}.png', format=\"png\", bbox_inches=\"tight\", dpi=300)\n",
        "    plt.close()"
      ],
      "metadata": {
        "id": "ds8LwEIXjPoa"
      },
      "execution_count": null,
      "outputs": []
    },
    {
      "cell_type": "code",
      "source": [
        "import shutil\n",
        "\n",
        "# Define the folder you want to zip and the name of the output zip file\n",
        "folder_to_zip = '/content/Raw_Data_Images'  # Replace with your folder path\n",
        "output_zip_file = '/content/Raw_Data_Images.zip'  # Replace with the desired output zip file path\n",
        "\n",
        "# Use shutil to create a zip file\n",
        "shutil.make_archive(output_zip_file.replace('.zip', ''), 'zip', folder_to_zip)\n",
        "\n",
        "print(f'Folder {folder_to_zip} has been zipped into {output_zip_file}')"
      ],
      "metadata": {
        "colab": {
          "base_uri": "https://localhost:8080/"
        },
        "id": "7jUgh4SIoD9F",
        "outputId": "82a3b662-5c5f-4f16-b4be-8415490bfa47"
      },
      "execution_count": null,
      "outputs": [
        {
          "output_type": "stream",
          "name": "stdout",
          "text": [
            "Folder /content/Raw_Data_Images has been zipped into /content/Raw_Data_Images.zip\n"
          ]
        }
      ]
    },
    {
      "cell_type": "code",
      "source": [],
      "metadata": {
        "id": "_BcT8R8ga5Yj"
      },
      "execution_count": null,
      "outputs": []
    }
  ]
}